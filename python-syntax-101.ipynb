{
 "cells": [
  {
   "cell_type": "code",
   "execution_count": 31,
   "metadata": {},
   "outputs": [
    {
     "name": "stdout",
     "output_type": "stream",
     "text": [
      " HELLOhello\n",
      "Rello\n"
     ]
    }
   ],
   "source": [
    "# This section is for learning about strings in python\n",
    "\n",
    "x=\" hello\".upper() + \" HEllo\".strip().lower()\n",
    "print(x)\n",
    "\n",
    "y='hello'.replace(\"h\", \"R\")\n",
    "print(y)\n",
    "\n",
    "\n"
   ]
  },
  {
   "cell_type": "code",
   "execution_count": 32,
   "metadata": {},
   "outputs": [
    {
     "name": "stdout",
     "output_type": "stream",
     "text": [
      "False\n",
      "True\n"
     ]
    }
   ],
   "source": [
    "# This section is for the boolean operators\n",
    "# The boolean operators are used to compare two values or variables\n",
    "# The boolean operators are:\n",
    "# == (equal to)\n",
    "# != (not equal to)\n",
    "# > (greater than)\n",
    "# < (less than)\n",
    "# >= (greater than or equal to)\n",
    "# <= (less than or equal to)\n",
    "# The boolean operators are used in the following way:\n",
    "# a = 5\n",
    "# b = 6\n",
    "# c = a == b\n",
    "# print(c)\n",
    "# The boolean operators are used to compare two values or variables\n",
    "# The boolean operators are used in the following way:\n",
    "\n",
    "a = 5\n",
    "b = 6\n",
    "c = a == b\n",
    "print(c)\n",
    "r=1\n",
    "t=5\n",
    "h =5\n",
    "g = r == t\n",
    "d = t == h\n",
    "print(g)\n",
    "print(d)"
   ]
  },
  {
   "cell_type": "code",
   "execution_count": 2,
   "metadata": {},
   "outputs": [
    {
     "name": "stdout",
     "output_type": "stream",
     "text": [
      "<class 'set'>\n",
      "<class 'tuple'>\n",
      "<class 'list'>\n",
      "<class 'dict'>\n"
     ]
    }
   ],
   "source": [
    "# This section describe the  data types in python. \n",
    "# Python has the following data types built-in by default, in these categories:\n",
    "\n",
    "a = 'apple' # string is immutable and ordered and changeable. Allows duplicate members.\n",
    "\n",
    "b = {'apple', 'banana', 'cherry'} # set is unordered and unindexed and unchangeable. No duplicate members.\n",
    "c = ('apple', 'banana', 'cherry') # tuple is immutable and ordered and unchangeable. Allows duplicate members.\n",
    "d = ['apple', 'banana', 'cherry'] # list is mutable and ordered and changeable. Allows duplicate members.\n",
    "e=  {\"name\": \"apple\", \"color\": \"red\"} # dictionary is a collection which is unordered, changeable and indexed. No duplicate members. \n",
    "\n",
    "\n",
    "print(type(b))\n",
    "print(type(c))\n",
    "print(type(d))\n",
    "print(type(e))"
   ]
  },
  {
   "cell_type": "code",
   "execution_count": null,
   "metadata": {},
   "outputs": [],
   "source": [
    "# This section is for the if statement in python. if statement is used to execute a block of code only if a specified condition is true.\n",
    "\n",
    "\n",
    "x =1\n",
    "y = 5\n",
    "\n",
    "if (x > y):\n",
    "    print(\"x is greater than y\")\n",
    " \n",
    " \n",
    "if x > y:\n",
    "    print(\"x is greater than y\")\n",
    "    "
   ]
  },
  {
   "cell_type": "code",
   "execution_count": 6,
   "metadata": {},
   "outputs": [
    {
     "name": "stdout",
     "output_type": "stream",
     "text": [
      "1\n",
      "2\n",
      "3\n",
      "4\n"
     ]
    }
   ],
   "source": [
    "# this section is about while loops in python. While loops are used to loop through a block of code as long as the condition is true.\n",
    "# The syntax of the while loop is:\n",
    "# # while condition:    \n",
    "\n",
    "x =1\n",
    "y = 5\n",
    "\n",
    "while x < y:\n",
    "    print(x)\n",
    "    x = x + 1\n",
    "    "
   ]
  }
 ],
 "metadata": {
  "kernelspec": {
   "display_name": "Python (base)",
   "language": "python",
   "name": "base"
  },
  "language_info": {
   "codemirror_mode": {
    "name": "ipython",
    "version": 3
   },
   "file_extension": ".py",
   "mimetype": "text/x-python",
   "name": "python",
   "nbconvert_exporter": "python",
   "pygments_lexer": "ipython3",
   "version": "3.11.7"
  }
 },
 "nbformat": 4,
 "nbformat_minor": 2
}
